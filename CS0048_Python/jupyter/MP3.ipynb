{
 "cells": [
  {
   "cell_type": "markdown",
   "id": "856a6a3e-ea4b-4012-88ac-5eafcd825e27",
   "metadata": {},
   "source": [
    "# MP3_1"
   ]
  },
  {
   "cell_type": "code",
   "execution_count": 3,
   "id": "0429b4b9-2eb4-49fc-8b24-23588baa01ec",
   "metadata": {},
   "outputs": [
    {
     "name": "stdin",
     "output_type": "stream",
     "text": [
      "Enter the number:  45893\n"
     ]
    },
    {
     "name": "stdout",
     "output_type": "stream",
     "text": [
      "2\n"
     ]
    }
   ],
   "source": [
    "def digitalRoot(num):\n",
    "    sum = 0\n",
    "    snum = str(num)\n",
    "    for i in snum:\n",
    "        sum += int(i)\n",
    "    if sum < 10:\n",
    "        return sum\n",
    "    else:\n",
    "        return digitalRoot(sum) \n",
    "\n",
    "num = input(\"Enter the number: \")\n",
    "print(digitalRoot(num))"
   ]
  },
  {
   "cell_type": "markdown",
   "id": "acc8da58-65b5-49e0-a022-fffc155e5a49",
   "metadata": {},
   "source": [
    "# MP3_2"
   ]
  },
  {
   "cell_type": "code",
   "execution_count": 5,
   "id": "80171b2a-2a14-45e6-bbe4-2190c29255d8",
   "metadata": {},
   "outputs": [
    {
     "name": "stdin",
     "output_type": "stream",
     "text": [
      "Enter first string:  hadji pogi\n",
      "Enter second string:  hadji pogi\n"
     ]
    },
    {
     "name": "stdout",
     "output_type": "stream",
     "text": [
      "-1\n"
     ]
    }
   ],
   "source": [
    "def xyz_diff(first, second):\n",
    "    count = len(first)\n",
    "    while count > 0:\n",
    "        for i in first:\n",
    "            for j in second:\n",
    "                if i == j:\n",
    "                    break\n",
    "            else:\n",
    "                return first.index(i) + 1\n",
    "        return -1\n",
    "    count -= 1\n",
    "\n",
    "first = input(\"Enter first string: \")\n",
    "second = input(\"Enter second string: \")\n",
    "\n",
    "print(xyz_diff(first, second))"
   ]
  },
  {
   "cell_type": "markdown",
   "id": "f4549b8f-04c6-4b92-9012-23d9433b59cd",
   "metadata": {},
   "source": [
    "# MP3_3"
   ]
  },
  {
   "cell_type": "code",
   "execution_count": null,
   "id": "b8f69baf-f04a-4015-8103-d6fef281ac43",
   "metadata": {},
   "outputs": [
    {
     "name": "stdin",
     "output_type": "stream",
     "text": [
      "Enter a positive integer:  9\n"
     ]
    },
    {
     "name": "stdout",
     "output_type": "stream",
     "text": [
      "The first prime greater than the number entered is:  11\n"
     ]
    },
    {
     "name": "stdin",
     "output_type": "stream",
     "text": [
      "Enter a positive integer:  32\n"
     ]
    },
    {
     "name": "stdout",
     "output_type": "stream",
     "text": [
      "The first prime greater than the number entered is:  37\n"
     ]
    },
    {
     "name": "stdin",
     "output_type": "stream",
     "text": [
      "Enter a positive integer:  -9\n"
     ]
    },
    {
     "name": "stdout",
     "output_type": "stream",
     "text": [
      "The number is not a positive integer\n"
     ]
    },
    {
     "name": "stdin",
     "output_type": "stream",
     "text": [
      "Enter a positive integer:  1.1\n"
     ]
    },
    {
     "name": "stdout",
     "output_type": "stream",
     "text": [
      "The input should be a whole number\n"
     ]
    }
   ],
   "source": [
    "prime_numbers = [2, 3, 5, 7, 11, 13, 17, 19, 23, 29, 31, 37, 41, 43, 47, 53, 59, 61, 67, 71, 73, 79, 83, 89, 97]\n",
    "\n",
    "def nextPrimeList(n):\n",
    "    for i in prime_numbers:\n",
    "        if  i > n:\n",
    "            return i\n",
    "\n",
    "while True:\n",
    "    num = input(\"Enter a positive integer: \")\n",
    "    if '.' in num:\n",
    "        print(\"The input should be a whole number\")\n",
    "        continue\n",
    "\n",
    "    intNum = int(num)\n",
    "\n",
    "    if intNum <= 0:\n",
    "        print(\"The number is not a positive integer\")\n",
    "        continue\n",
    "\n",
    "    prime = nextPrimeList(intNum)\n",
    "    if prime:\n",
    "        print(\"The first prime greater than the number entered is: \", prime)\n",
    "    else:\n",
    "        print(\"No prime number found\")"
   ]
  },
  {
   "cell_type": "code",
   "execution_count": null,
   "id": "4879b8ec-4f67-48b9-af68-8e5464c58ebf",
   "metadata": {},
   "outputs": [],
   "source": []
  }
 ],
 "metadata": {
  "kernelspec": {
   "display_name": "Python 3 (ipykernel)",
   "language": "python",
   "name": "python3"
  },
  "language_info": {
   "codemirror_mode": {
    "name": "ipython",
    "version": 3
   },
   "file_extension": ".py",
   "mimetype": "text/x-python",
   "name": "python",
   "nbconvert_exporter": "python",
   "pygments_lexer": "ipython3",
   "version": "3.13.3"
  }
 },
 "nbformat": 4,
 "nbformat_minor": 5
}
